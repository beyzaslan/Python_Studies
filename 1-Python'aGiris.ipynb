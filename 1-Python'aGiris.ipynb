{
 "cells": [
  {
   "cell_type": "markdown",
   "metadata": {},
   "source": [
    "Çoklu değişken atama"
   ]
  },
  {
   "cell_type": "code",
   "execution_count": 1,
   "metadata": {},
   "outputs": [
    {
     "name": "stdout",
     "output_type": "stream",
     "text": [
      "20\n"
     ]
    }
   ],
   "source": [
    "number1 = number2 = number3 = 20\n",
    "\n",
    "print(number2)"
   ]
  },
  {
   "cell_type": "code",
   "execution_count": 2,
   "metadata": {},
   "outputs": [
    {
     "name": "stdout",
     "output_type": "stream",
     "text": [
      "Zeynep\n",
      "25\n",
      "20000.5\n",
      "a\n",
      "False\n"
     ]
    }
   ],
   "source": [
    "name, age, salary, letter, isNumber = \"Zeynep\", 25, 20000.50, 'a', False\n",
    "\n",
    "print(name)\n",
    "print(age)\n",
    "print(salary)\n",
    "print(letter)\n",
    "print(isNumber)"
   ]
  },
  {
   "cell_type": "markdown",
   "metadata": {},
   "source": [
    "Yerel ve Global Değişkenler\n",
    "\n",
    "* Yerel Değişken: Tanımlandığı yerdeki kod bloğunda çalışan değişkenlerdir. Başka yerden erişilemezler.\n",
    "* Global Değişken: Kodun her yerinden erişilebilen değişkenlerdir."
   ]
  },
  {
   "cell_type": "code",
   "execution_count": 4,
   "metadata": {},
   "outputs": [
    {
     "name": "stdout",
     "output_type": "stream",
     "text": [
      "Ücret1=  20000\n"
     ]
    },
    {
     "ename": "NameError",
     "evalue": "name 'ücret1' is not defined",
     "output_type": "error",
     "traceback": [
      "\u001b[1;31m---------------------------------------------------------------------------\u001b[0m",
      "\u001b[1;31mNameError\u001b[0m                                 Traceback (most recent call last)",
      "Cell \u001b[1;32mIn [4], line 10\u001b[0m\n\u001b[0;32m      7\u001b[0m     \u001b[39mprint\u001b[39m(\u001b[39m\"\u001b[39m\u001b[39mÜcret2= \u001b[39m\u001b[39m\"\u001b[39m, ücret1)\n\u001b[0;32m      9\u001b[0m maas1()\n\u001b[1;32m---> 10\u001b[0m maas2()\n",
      "Cell \u001b[1;32mIn [4], line 7\u001b[0m, in \u001b[0;36mmaas2\u001b[1;34m()\u001b[0m\n\u001b[0;32m      5\u001b[0m \u001b[39mdef\u001b[39;00m \u001b[39mmaas2\u001b[39m():\n\u001b[0;32m      6\u001b[0m     ücret2\u001b[39m=\u001b[39m\u001b[39m15000\u001b[39m\n\u001b[1;32m----> 7\u001b[0m     \u001b[39mprint\u001b[39m(\u001b[39m\"\u001b[39m\u001b[39mÜcret2= \u001b[39m\u001b[39m\"\u001b[39m, ücret1)\n",
      "\u001b[1;31mNameError\u001b[0m: name 'ücret1' is not defined"
     ]
    }
   ],
   "source": [
    "def maas1():\n",
    "    ücret1=20000\n",
    "    print(\"Ücret1= \", ücret1)\n",
    "\n",
    "def maas2():\n",
    "    ücret2=15000\n",
    "    print(\"Ücret2= \", ücret1)\n",
    "\n",
    "maas1()\n",
    "maas2()"
   ]
  },
  {
   "cell_type": "code",
   "execution_count": 5,
   "metadata": {},
   "outputs": [
    {
     "name": "stdout",
     "output_type": "stream",
     "text": [
      "Ücret1=  20000\n",
      "Ücret2 20000\n",
      "main 20000\n"
     ]
    }
   ],
   "source": [
    "ücret1=20000\n",
    "def maas1():\n",
    "    print(\"Ücret1= \", ücret1)\n",
    "\n",
    "def maas2():\n",
    "    print(\"Ücret2\", ücret1)\n",
    "\n",
    "maas1()\n",
    "maas2()\n",
    "\n",
    "print(\"main\", ücret1)"
   ]
  },
  {
   "cell_type": "markdown",
   "metadata": {},
   "source": [
    "Tanımlanan global değişkenin değerini değiştirme"
   ]
  },
  {
   "cell_type": "code",
   "execution_count": 10,
   "metadata": {},
   "outputs": [
    {
     "name": "stdout",
     "output_type": "stream",
     "text": [
      "Ücret2=  20000\n",
      "Ücret1=  10000\n",
      "main 10000\n"
     ]
    }
   ],
   "source": [
    "ücret1=20000\n",
    "\n",
    "def maas1():\n",
    "    global ücret1\n",
    "    ücret1=10000\n",
    "    print(\"Ücret1= \", ücret1)\n",
    "\n",
    "def maas2():\n",
    "    print(\"Ücret2= \", ücret1)\n",
    "\n",
    "maas2()\n",
    "maas1()\n",
    "\n",
    "print(\"main\", ücret1)"
   ]
  },
  {
   "cell_type": "markdown",
   "metadata": {},
   "source": [
    "Operatörler\n",
    "\n",
    "**+** Toplama\n",
    "\n",
    "**-** Çıkarma\n",
    "\n",
    "**'*'** Çarpma\n",
    "\n",
    "**/** Float Bölme\n",
    "\n",
    "**//** Int Bölme\n",
    "\n",
    "**%** Mod Alma\n",
    "\n",
    "** Üs Alma"
   ]
  },
  {
   "cell_type": "code",
   "execution_count": 11,
   "metadata": {},
   "outputs": [
    {
     "name": "stdout",
     "output_type": "stream",
     "text": [
      "7 + 2 =  9\n",
      "5 - 3 =  2\n",
      "6 * 4 =  24\n",
      "8 / 2 =  4.0\n",
      "7 //3 =  2\n",
      "9 % 4 =  1\n",
      "2 ** 5=  32\n"
     ]
    }
   ],
   "source": [
    "print(\"7 + 2 = \", 7 + 2)\n",
    "print(\"5 - 3 = \", 5 - 3)\n",
    "print(\"6 * 4 = \", 6 * 4)\n",
    "print(\"8 / 2 = \", 8 / 2)\n",
    "print(\"7 //3 = \", 7 //3)\n",
    "print(\"9 % 4 = \", 9 % 4)\n",
    "print(\"2 ** 5= \", 2 **5)"
   ]
  },
  {
   "cell_type": "markdown",
   "metadata": {},
   "source": [
    "İlişkisel (karşılaştırma) Operatörleri\n",
    "\n",
    "< Küçüktür\n",
    "\n",
    "'>' Büyüktür\n",
    "\n",
    "<= Küçük Eşittir\n",
    "\n",
    "'>=' Büyük Eşittir\n",
    "\n",
    "== Eşittir\n",
    "\n",
    "!= Eşit Değildir"
   ]
  },
  {
   "cell_type": "code",
   "execution_count": 12,
   "metadata": {},
   "outputs": [
    {
     "name": "stdout",
     "output_type": "stream",
     "text": [
      "False\n",
      "True\n"
     ]
    }
   ],
   "source": [
    "a=25\n",
    "b=12\n",
    "\n",
    "print(a<=b)\n",
    "print(b<=a)"
   ]
  },
  {
   "cell_type": "markdown",
   "metadata": {},
   "source": [
    "Atama Operatörleri\n",
    "\n",
    "=, +=, -=, *=, /=, //=, %=\n",
    "\n",
    "**="
   ]
  },
  {
   "cell_type": "code",
   "execution_count": 15,
   "metadata": {},
   "outputs": [
    {
     "name": "stdout",
     "output_type": "stream",
     "text": [
      "5\n",
      "9\n",
      "6\n",
      "48\n",
      "12.0\n",
      "6.0\n",
      "36.0\n",
      "0.0\n"
     ]
    }
   ],
   "source": [
    "x = 5\n",
    "print(x)\n",
    "\n",
    "x += 4 # x = x + 4\n",
    "print(x)\n",
    "\n",
    "x -= 3 # x = x - 3\n",
    "print(x)\n",
    "\n",
    "x *= 8 # x = x * 8\n",
    "print(x)\n",
    "\n",
    "x /= 4 # x = x / 4\n",
    "print(x)\n",
    "\n",
    "x //= 2 # x = x // 2\n",
    "print(x)\n",
    "\n",
    "x **= 2 # x = x ** 2\n",
    "print(x)\n",
    "\n",
    "x %= 2 # x = x % 2\n",
    "print(x)"
   ]
  },
  {
   "cell_type": "markdown",
   "metadata": {},
   "source": [
    "Tip Dönüşümleri"
   ]
  },
  {
   "cell_type": "code",
   "execution_count": 16,
   "metadata": {},
   "outputs": [
    {
     "name": "stdout",
     "output_type": "stream",
     "text": [
      "25\n",
      "3.14\n",
      "Geçtiniz\n"
     ]
    }
   ],
   "source": [
    "number = 25\n",
    "pi = 3.14\n",
    "result = \"Geçtiniz\"\n",
    "\n",
    "print(number)\n",
    "print(pi)\n",
    "print(result)"
   ]
  },
  {
   "cell_type": "code",
   "execution_count": 17,
   "metadata": {},
   "outputs": [
    {
     "name": "stdout",
     "output_type": "stream",
     "text": [
      "25.0\n",
      "3\n"
     ]
    }
   ],
   "source": [
    "print(float(number))\n",
    "print(int(pi))"
   ]
  },
  {
   "cell_type": "markdown",
   "metadata": {},
   "source": [
    "Format ( ) kullanımı"
   ]
  },
  {
   "cell_type": "code",
   "execution_count": 19,
   "metadata": {},
   "outputs": [
    {
     "name": "stdout",
     "output_type": "stream",
     "text": [
      "Benim adım Beyza\n"
     ]
    }
   ],
   "source": [
    "name = \"Beyza\"\n",
    "print(\"Benim adım\", name)"
   ]
  },
  {
   "cell_type": "code",
   "execution_count": 22,
   "metadata": {},
   "outputs": [
    {
     "name": "stdout",
     "output_type": "stream",
     "text": [
      "Benim adım Beyza\n"
     ]
    }
   ],
   "source": [
    "print(\"Benim adım {}\".format(name))"
   ]
  },
  {
   "cell_type": "code",
   "execution_count": 24,
   "metadata": {},
   "outputs": [
    {
     "name": "stdout",
     "output_type": "stream",
     "text": [
      "Benim adım Beyza\n"
     ]
    }
   ],
   "source": [
    "print(f\"Benim adım {name}\")"
   ]
  },
  {
   "cell_type": "code",
   "execution_count": 30,
   "metadata": {},
   "outputs": [
    {
     "name": "stdout",
     "output_type": "stream",
     "text": [
      "Türkiye'nin Başkenti Ankara\n",
      "Türkiye'nin Başkenti Ankara\n"
     ]
    }
   ],
   "source": [
    "city=\"Ankara\"\n",
    "print(\"Türkiye'nin Başkenti {}\".format(city))\n",
    "print(f\"Türkiye'nin Başkenti {city}\")"
   ]
  },
  {
   "cell_type": "code",
   "execution_count": 33,
   "metadata": {},
   "outputs": [
    {
     "name": "stdout",
     "output_type": "stream",
     "text": [
      "Öğrendiğim programlama dilinin adı = Python\n",
      "Öğrendiğim programlama dilinin adı = Python\n"
     ]
    }
   ],
   "source": [
    "Language=\"Python\"\n",
    "print(\"Öğrendiğim programlama dilinin adı = {}\".format(Language))\n",
    "print(f\"Öğrendiğim programlama dilinin adı = {Language}\")"
   ]
  }
 ],
 "metadata": {
  "kernelspec": {
   "display_name": "Python 3.10.7 64-bit",
   "language": "python",
   "name": "python3"
  },
  "language_info": {
   "codemirror_mode": {
    "name": "ipython",
    "version": 3
   },
   "file_extension": ".py",
   "mimetype": "text/x-python",
   "name": "python",
   "nbconvert_exporter": "python",
   "pygments_lexer": "ipython3",
   "version": "3.10.7"
  },
  "orig_nbformat": 4,
  "vscode": {
   "interpreter": {
    "hash": "1d8047cf9a3fb5d39b90451c85057b3ab99e4664a0128e29f03111a30f920c3d"
   }
  }
 },
 "nbformat": 4,
 "nbformat_minor": 2
}
