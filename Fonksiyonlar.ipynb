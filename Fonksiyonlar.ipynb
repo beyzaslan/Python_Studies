{
 "cells": [
  {
   "cell_type": "markdown",
   "metadata": {},
   "source": [
    "**Fonksiyonlar**\n"
   ]
  },
  {
   "cell_type": "code",
   "execution_count": 7,
   "metadata": {},
   "outputs": [
    {
     "name": "stdout",
     "output_type": "stream",
     "text": [
      "Merhaba Beyza\n"
     ]
    }
   ],
   "source": [
    "def selamlasma(isim):\n",
    "    \n",
    "  print(f\"Merhaba {isim}\")\n",
    "  \n",
    "selamlasma(\"Beyza\")"
   ]
  },
  {
   "cell_type": "code",
   "execution_count": 3,
   "metadata": {},
   "outputs": [
    {
     "name": "stdout",
     "output_type": "stream",
     "text": [
      "Merhaba\n"
     ]
    }
   ],
   "source": [
    "def selamlasma():\n",
    "\n",
    "  print(\"Merhaba\")\n",
    "  \n",
    "selamlasma()"
   ]
  },
  {
   "cell_type": "code",
   "execution_count": 12,
   "metadata": {},
   "outputs": [
    {
     "name": "stdout",
     "output_type": "stream",
     "text": [
      "11\n"
     ]
    }
   ],
   "source": [
    "def toplam(s1, s2):\n",
    "    sonuc = s1 + s2    \n",
    "    print(sonuc)\n",
    "toplam(5,6)"
   ]
  },
  {
   "cell_type": "code",
   "execution_count": 20,
   "metadata": {},
   "outputs": [
    {
     "name": "stdout",
     "output_type": "stream",
     "text": [
      "sonuc =  30\n"
     ]
    }
   ],
   "source": [
    "def toplam(s1, s2):\n",
    "    return s1 * s2\n",
    "print(\"sonuc = \", toplam (5, 6))"
   ]
  },
  {
   "cell_type": "code",
   "execution_count": 19,
   "metadata": {},
   "outputs": [
    {
     "name": "stdout",
     "output_type": "stream",
     "text": [
      "Merhaba Beyza\n"
     ]
    }
   ],
   "source": [
    "def selam(isim):\n",
    "    return isim\n",
    "print(\"Merhaba\", selam (\"Beyza\") )"
   ]
  },
  {
   "cell_type": "code",
   "execution_count": 21,
   "metadata": {},
   "outputs": [
    {
     "name": "stdout",
     "output_type": "stream",
     "text": [
      "186\n"
     ]
    }
   ],
   "source": [
    "from random import randint\n",
    "\n",
    "print(randint(10, 200))"
   ]
  },
  {
   "cell_type": "code",
   "execution_count": 24,
   "metadata": {},
   "outputs": [
    {
     "name": "stdout",
     "output_type": "stream",
     "text": [
      "İki sayının;\n",
      "toplamı: 25\n",
      "çıkarma: 15\n",
      "bölümü: 4.0\n",
      "çarpımı: 100\n",
      "\n"
     ]
    }
   ],
   "source": [
    "def hesap(s1, s2):\n",
    "    top = s1 + s2\n",
    "    cık = s1 - s2\n",
    "    bol = s1 / s2\n",
    "    carp = s1 * s2\n",
    "\n",
    "    return top, cık, bol, carp\n",
    "x, y, z, t = hesap (20, 5)\n",
    "print(f\"İki sayının;\\ntoplamı: {x}\\nçıkarma: {y}\\nbölümü: {z}\\nçarpımı: {t}\\n\")\n"
   ]
  },
  {
   "cell_type": "code",
   "execution_count": 35,
   "metadata": {},
   "outputs": [
    {
     "name": "stdout",
     "output_type": "stream",
     "text": [
      "Fonksiyon içi:  Yerel değişkendir.\n",
      "Fonksiyon dışı:  Global değişkendir.\n",
      "Fonksiyon dışı:  Global değişkendir.\n"
     ]
    },
    {
     "ename": "NameError",
     "evalue": "name 'yerel_degisken' is not defined",
     "output_type": "error",
     "traceback": [
      "\u001b[1;31m---------------------------------------------------------------------------\u001b[0m",
      "\u001b[1;31mNameError\u001b[0m                                 Traceback (most recent call last)",
      "Cell \u001b[1;32mIn [35], line 11\u001b[0m\n\u001b[0;32m      8\u001b[0m degiskenler()\n\u001b[0;32m     10\u001b[0m \u001b[38;5;28mprint\u001b[39m(\u001b[38;5;124m\"\u001b[39m\u001b[38;5;124mFonksiyon dışı: \u001b[39m\u001b[38;5;124m\"\u001b[39m, global_degisken)\n\u001b[1;32m---> 11\u001b[0m \u001b[38;5;28mprint\u001b[39m(\u001b[38;5;124m\"\u001b[39m\u001b[38;5;124mFonksiyon içi: \u001b[39m\u001b[38;5;124m\"\u001b[39m, \u001b[43myerel_degisken\u001b[49m)\n",
      "\u001b[1;31mNameError\u001b[0m: name 'yerel_degisken' is not defined"
     ]
    }
   ],
   "source": [
    "global_degisken = \"Global değişkendir.\"\n",
    "\n",
    "def degiskenler():\n",
    "    yerel_degisken = \"Yerel değişkendir.\"\n",
    "    print(\"Fonksiyon içi: \", yerel_degisken)\n",
    "    print(\"Fonksiyon dışı: \", global_degisken)\n",
    "\n",
    "degiskenler()\n",
    "\n",
    "print(\"Fonksiyon dışı: \", global_degisken)\n",
    "print(\"Fonksiyon içi: \", yerel_degisken)"
   ]
  },
  {
   "cell_type": "code",
   "execution_count": 36,
   "metadata": {},
   "outputs": [
    {
     "name": "stdout",
     "output_type": "stream",
     "text": [
      "Beyza Aslan\n",
      "Beyza\n"
     ]
    },
    {
     "ename": "NameError",
     "evalue": "name 'surname' is not defined",
     "output_type": "error",
     "traceback": [
      "\u001b[1;31m---------------------------------------------------------------------------\u001b[0m",
      "\u001b[1;31mNameError\u001b[0m                                 Traceback (most recent call last)",
      "Cell \u001b[1;32mIn [36], line 8\u001b[0m\n\u001b[0;32m      6\u001b[0m hi()\n\u001b[0;32m      7\u001b[0m \u001b[38;5;28mprint\u001b[39m(name)\n\u001b[1;32m----> 8\u001b[0m \u001b[38;5;28mprint\u001b[39m(\u001b[43msurname\u001b[49m)\n",
      "\u001b[1;31mNameError\u001b[0m: name 'surname' is not defined"
     ]
    }
   ],
   "source": [
    "name=\"Beyza\"\n",
    "\n",
    "def hi():\n",
    "    surname=\"Aslan\"\n",
    "    print(name, surname)\n",
    "    \n",
    "hi()\n",
    "print(name)\n",
    "print(surname)"
   ]
  },
  {
   "cell_type": "code",
   "execution_count": 38,
   "metadata": {},
   "outputs": [
    {
     "name": "stdout",
     "output_type": "stream",
     "text": [
      "1\n",
      "3\n",
      "5\n"
     ]
    }
   ],
   "source": [
    "s1, s2, s3= 1, 3, 5\n",
    "\n",
    "def call1():\n",
    "    print(s1)\n",
    "\n",
    "def call2():\n",
    "    print(s2)\n",
    "    \n",
    "def call3():\n",
    "    print(s3)\n",
    "\n",
    "call1()\n",
    "call2()\n",
    "call3()"
   ]
  },
  {
   "cell_type": "code",
   "execution_count": 40,
   "metadata": {},
   "outputs": [
    {
     "name": "stdout",
     "output_type": "stream",
     "text": [
      "5\n",
      "3\n",
      "5\n",
      "5\n"
     ]
    }
   ],
   "source": [
    "s1, s2, s3= 1, 3, 5\n",
    "\n",
    "def call1():\n",
    "    global s1\n",
    "    s1=5\n",
    "    print(s1)\n",
    "\n",
    "def call2():\n",
    "    print(s2)\n",
    "    \n",
    "def call3():\n",
    "    print(s3)\n",
    "    print(s1)\n",
    "\n",
    "call1()\n",
    "call2()\n",
    "call3()"
   ]
  },
  {
   "cell_type": "code",
   "execution_count": 1,
   "metadata": {},
   "outputs": [
    {
     "name": "stdout",
     "output_type": "stream",
     "text": [
      "Bu okulun adı= Uludağ Üniversitesi\n",
      "Bu okulun adı= Ege üniversitesi\n"
     ]
    }
   ],
   "source": [
    "def yer(okul=\"Ege üniversitesi\"):\n",
    "    print(\"Bu okulun adı=\", okul)\n",
    "    \n",
    "yer(\"Uludağ Üniversitesi\")\n",
    "yer()"
   ]
  },
  {
   "cell_type": "code",
   "execution_count": 3,
   "metadata": {},
   "outputs": [
    {
     "name": "stdout",
     "output_type": "stream",
     "text": [
      "Ahmet isimli çalışan 27 yaşında ve maaşı: 10000 TL.\n",
      "Yeliz isimli çalışan 24 yaşında ve maaşı: 5000 TL.\n"
     ]
    }
   ],
   "source": [
    "def id(isim, yas, maas = 5000):\n",
    "    print(f\"{isim} isimli çalışan {yas} yaşında ve maaşı: {maas} TL.\")\n",
    "\n",
    "id(\"Ahmet\", 27, 10000)\n",
    "id(\"Yeliz\", 24)"
   ]
  },
  {
   "cell_type": "code",
   "execution_count": null,
   "metadata": {},
   "outputs": [],
   "source": [
    "## Sayı tahmin oyunu (Bilgisayarın sayısını tahmin etme)"
   ]
  },
  {
   "cell_type": "code",
   "execution_count": null,
   "metadata": {},
   "outputs": [],
   "source": [
    "## Sayı tahmin oyunu (Kullanıcının sayısını tahmin etme)"
   ]
  }
 ],
 "metadata": {
  "kernelspec": {
   "display_name": "Python 3.10.7 64-bit",
   "language": "python",
   "name": "python3"
  },
  "language_info": {
   "codemirror_mode": {
    "name": "ipython",
    "version": 3
   },
   "file_extension": ".py",
   "mimetype": "text/x-python",
   "name": "python",
   "nbconvert_exporter": "python",
   "pygments_lexer": "ipython3",
   "version": "3.10.7"
  },
  "orig_nbformat": 4,
  "vscode": {
   "interpreter": {
    "hash": "1d8047cf9a3fb5d39b90451c85057b3ab99e4664a0128e29f03111a30f920c3d"
   }
  }
 },
 "nbformat": 4,
 "nbformat_minor": 2
}
