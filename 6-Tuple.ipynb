{
 "cells": [
  {
   "cell_type": "markdown",
   "metadata": {},
   "source": [
    "**Tuple**\n",
    "\n",
    "* index ile erişilebilir, ordered yani sıralıdır. \n",
    "* Tuple değiştirilemezler (immutable). Oluşturulduktan sonra bir eleman eklenemez, silinemez. \n",
    "* ( ) parantez içerisinde tanımlanır. Elemanlar virgüllerle ayrılır. \n",
    "* Farklı veri tipleri içerebilir. \n",
    "* Dublicate veri olabilir. Aynı eleman birden fazla tuple içerisinde yer alabilir. \n"
   ]
  },
  {
   "cell_type": "code",
   "execution_count": 2,
   "metadata": {},
   "outputs": [],
   "source": [
    "int_tuple=(1,3,5)\n",
    "str_tuple=(\"Python\", \"Kotlin\", \"Javascript\", \"Flutter\")\n",
    "mix_tuple=(1,6,4,1,\"Python\", True, 13.4)"
   ]
  },
  {
   "cell_type": "code",
   "execution_count": 3,
   "metadata": {},
   "outputs": [
    {
     "name": "stdout",
     "output_type": "stream",
     "text": [
      "(1, 6, 4, 1, 'Python', True, 13.4)\n"
     ]
    }
   ],
   "source": [
    "print(mix_tuple)"
   ]
  },
  {
   "cell_type": "code",
   "execution_count": 4,
   "metadata": {},
   "outputs": [
    {
     "data": {
      "text/plain": [
       "tuple"
      ]
     },
     "execution_count": 4,
     "metadata": {},
     "output_type": "execute_result"
    }
   ],
   "source": [
    "type(mix_tuple)"
   ]
  },
  {
   "cell_type": "code",
   "execution_count": 5,
   "metadata": {},
   "outputs": [
    {
     "data": {
      "text/plain": [
       "tuple"
      ]
     },
     "execution_count": 5,
     "metadata": {},
     "output_type": "execute_result"
    }
   ],
   "source": [
    "my_tuple= \"Aysel\", 10, 1000 #tuple bu şekilde de tanımlanabilir. \n",
    "type(my_tuple)"
   ]
  },
  {
   "cell_type": "code",
   "execution_count": 6,
   "metadata": {},
   "outputs": [
    {
     "name": "stdout",
     "output_type": "stream",
     "text": [
      "Aysel 10 1000\n"
     ]
    }
   ],
   "source": [
    "\n",
    "name, age, salary = my_tuple #Tuple bu şekilde de ifade edilebilir --> (Tuple'in  ilk, iki ve üçüncü değerleri atandı.)\n",
    "print(name, age, salary)"
   ]
  },
  {
   "cell_type": "code",
   "execution_count": 7,
   "metadata": {},
   "outputs": [
    {
     "name": "stdout",
     "output_type": "stream",
     "text": [
      "Tuple uzunluğu 3\n"
     ]
    }
   ],
   "source": [
    "print(\"Tuple uzunluğu\", len(my_tuple))\n"
   ]
  },
  {
   "cell_type": "markdown",
   "metadata": {},
   "source": [
    "Döngü ile erişim"
   ]
  },
  {
   "cell_type": "code",
   "execution_count": 8,
   "metadata": {},
   "outputs": [
    {
     "name": "stdout",
     "output_type": "stream",
     "text": [
      "Aysel\n",
      "10\n",
      "1000\n"
     ]
    }
   ],
   "source": [
    "for item in my_tuple:\n",
    "    print(item)"
   ]
  },
  {
   "cell_type": "code",
   "execution_count": 11,
   "metadata": {},
   "outputs": [
    {
     "name": "stdout",
     "output_type": "stream",
     "text": [
      "0. index değeri = Python\n",
      "1. index değeri = Kotlin\n",
      "2. index değeri = Javascript\n",
      "3. index değeri = Flutter\n"
     ]
    }
   ],
   "source": [
    "my_tuple=(\"Python\", \"Kotlin\", \"Javascript\", \"Flutter\")\n",
    "\n",
    "for i in range(len(my_tuple)):\n",
    "    print(f\"{i}. index değeri = {my_tuple[i]}\")\n"
   ]
  },
  {
   "cell_type": "code",
   "execution_count": 13,
   "metadata": {},
   "outputs": [
    {
     "data": {
      "text/plain": [
       "'Python'"
      ]
     },
     "execution_count": 13,
     "metadata": {},
     "output_type": "execute_result"
    }
   ],
   "source": [
    "my_tuple [-1]\n",
    "my_tuple [0]"
   ]
  },
  {
   "cell_type": "code",
   "execution_count": 14,
   "metadata": {},
   "outputs": [
    {
     "data": {
      "text/plain": [
       "('Kotlin', 'Javascript')"
      ]
     },
     "execution_count": 14,
     "metadata": {},
     "output_type": "execute_result"
    }
   ],
   "source": [
    "#slicing --> istenen değerler arasındaki değerleri döndürür.\n",
    "\n",
    "my_tuple [1:3]"
   ]
  },
  {
   "cell_type": "code",
   "execution_count": 15,
   "metadata": {},
   "outputs": [
    {
     "data": {
      "text/plain": [
       "1"
      ]
     },
     "execution_count": 15,
     "metadata": {},
     "output_type": "execute_result"
    }
   ],
   "source": [
    "#index --> değerin kaçıncı değer yani indexte olduğunu döndürür.\n",
    "\n",
    "my_tuple.index(\"Kotlin\")"
   ]
  },
  {
   "cell_type": "code",
   "execution_count": 16,
   "metadata": {},
   "outputs": [
    {
     "data": {
      "text/plain": [
       "1"
      ]
     },
     "execution_count": 16,
     "metadata": {},
     "output_type": "execute_result"
    }
   ],
   "source": [
    "my_tuple.index(\"Kotlin\", 0, 3) # 0 ve 3. değerler arasında \"Kotlin\" yazısını arar."
   ]
  },
  {
   "cell_type": "code",
   "execution_count": 21,
   "metadata": {},
   "outputs": [
    {
     "name": "stdout",
     "output_type": "stream",
     "text": [
      "Kotlin tuple içerisinde ekli\n"
     ]
    }
   ],
   "source": [
    "if \"Kotlin\" in my_tuple: #tuple içinde listelerdeki gibi \"in\" ile değer var mı bakılır. \n",
    "    print(\"Kotlin tuple içerisinde ekli\")\n",
    "else:\n",
    "    print(\"Kotlin tuple içinde ekli değil\")"
   ]
  },
  {
   "cell_type": "markdown",
   "metadata": {},
   "source": [
    "Bir tuple üzerinde eleman ekleme, silme, düzenleme işlemleri yapılamaz. Yapıldığı durumda hata alınır.\n"
   ]
  },
  {
   "cell_type": "code",
   "execution_count": 24,
   "metadata": {},
   "outputs": [
    {
     "data": {
      "text/plain": [
       "'Python'"
      ]
     },
     "execution_count": 24,
     "metadata": {},
     "output_type": "execute_result"
    }
   ],
   "source": [
    "my_tuple [0]\n",
    "# my_tuple [0] = \"Python\" --> bu şekilde atama işlemi olursa hata alınır."
   ]
  },
  {
   "cell_type": "code",
   "execution_count": 35,
   "metadata": {},
   "outputs": [
    {
     "name": "stdout",
     "output_type": "stream",
     "text": [
      "Type: <class 'tuple'>\n",
      "Tuple'ın ilk hali (1, 2, 3, 4)\n",
      "Convert type: <class 'list'>\n",
      "[0, 1, 2, 3, 4]\n",
      "[0, 1, 2, 3, 4, 5]\n",
      "[0, 1, 2, 3, 4, 5, 6, 7, 8]\n",
      "Tuple'ın son hali (0, 1, 2, 3, 4, 5, 6, 7, 8)\n"
     ]
    }
   ],
   "source": [
    "# ancak tuple listeye çevrildiği takdirde bu işlemler yapılabilir.\n",
    "\n",
    "from pydoc import tempfilepager\n",
    "\n",
    "\n",
    "my_tuple = (1,2,3,4)\n",
    "print(\"Type:\", type(my_tuple))\n",
    "print(\"Tuple'ın ilk hali\", my_tuple)\n",
    "\n",
    "temp_list=list(my_tuple) #tuple'ı listeye çevirdik.\n",
    "print(\"Convert type:\", type(temp_list))\n",
    "\n",
    "temp_list.insert(0, 0)\n",
    "print(temp_list)\n",
    "\n",
    "temp_list.append(5)\n",
    "print(temp_list)\n",
    "\n",
    "temp_list.extend([6,7,8])\n",
    "print(temp_list)\n",
    "\n",
    "my_tuple=tuple(temp_list)\n",
    "print(\"Tuple'ın son hali\", my_tuple)\n"
   ]
  },
  {
   "cell_type": "code",
   "execution_count": 36,
   "metadata": {},
   "outputs": [
    {
     "name": "stdout",
     "output_type": "stream",
     "text": [
      "(1, 2, 3, 5, [9, 7, 8], 9)\n"
     ]
    }
   ],
   "source": [
    "my_tuple = (1,2,3,5, [6,7,8], 9) #Tuple içinde liste varsa listeye değer eklenip çıkarılabilir. \n",
    "\n",
    "my_tuple[4][0]=9\n",
    "print(my_tuple)"
   ]
  },
  {
   "cell_type": "code",
   "execution_count": 37,
   "metadata": {},
   "outputs": [
    {
     "name": "stdout",
     "output_type": "stream",
     "text": [
      "(1, 2, 3, 5, [9, 7, 8], 9)\n"
     ]
    }
   ],
   "source": [
    "my_tuple1 = my_tuple\n",
    "print(my_tuple1)"
   ]
  },
  {
   "cell_type": "code",
   "execution_count": 39,
   "metadata": {},
   "outputs": [
    {
     "data": {
      "text/plain": [
       "10"
      ]
     },
     "execution_count": 39,
     "metadata": {},
     "output_type": "execute_result"
    }
   ],
   "source": [
    "my_tuple=(1,2,3,10,4,5)\n",
    "max(my_tuple)"
   ]
  }
 ],
 "metadata": {
  "kernelspec": {
   "display_name": "Python 3.10.7 64-bit",
   "language": "python",
   "name": "python3"
  },
  "language_info": {
   "codemirror_mode": {
    "name": "ipython",
    "version": 3
   },
   "file_extension": ".py",
   "mimetype": "text/x-python",
   "name": "python",
   "nbconvert_exporter": "python",
   "pygments_lexer": "ipython3",
   "version": "3.10.7"
  },
  "orig_nbformat": 4,
  "vscode": {
   "interpreter": {
    "hash": "1d8047cf9a3fb5d39b90451c85057b3ab99e4664a0128e29f03111a30f920c3d"
   }
  }
 },
 "nbformat": 4,
 "nbformat_minor": 2
}
